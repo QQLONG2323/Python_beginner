{
 "cells": [
  {
   "cell_type": "code",
   "execution_count": 1,
   "metadata": {},
   "outputs": [
    {
     "data": {
      "text/plain": [
       "15.0"
      ]
     },
     "execution_count": 1,
     "metadata": {},
     "output_type": "execute_result"
    }
   ],
   "source": [
    "# 寫出 1+2+3+4+...+n的function 第一版\n",
    "def a():\n",
    "    n = int(input('輸入數字: '))\n",
    "    ans = (1+n)*n/2\n",
    "    return ans\n",
    "\n",
    "a()"
   ]
  },
  {
   "cell_type": "code",
   "execution_count": 2,
   "metadata": {},
   "outputs": [
    {
     "data": {
      "text/plain": [
       "15"
      ]
     },
     "execution_count": 2,
     "metadata": {},
     "output_type": "execute_result"
    }
   ],
   "source": [
    "# 寫出 1+2+3+4+...+n的function 第二版\n",
    "def a():\n",
    "    sum = 0\n",
    "    aa = 1\n",
    "    n = int(input('輸入數字: '))\n",
    "    while(aa <= n):        \n",
    "        sum += aa\n",
    "        aa += 1\n",
    "    return sum\n",
    "\n",
    "a()"
   ]
  },
  {
   "cell_type": "code",
   "execution_count": 3,
   "metadata": {},
   "outputs": [
    {
     "data": {
      "text/plain": [
       "3"
      ]
     },
     "execution_count": 3,
     "metadata": {},
     "output_type": "execute_result"
    }
   ],
   "source": [
    "# 寫出 1-2+3-4+5-6+7-8+....n 的function\n",
    "def a():    \n",
    "    total = 0\n",
    "    i = 1\n",
    "    sign = 1\n",
    "    n = int(input('輸入數字: '))\n",
    "\n",
    "    while i <= n:\n",
    "        total += sign * i\n",
    "        i += 1\n",
    "        sign *= -1\n",
    "    return total\n",
    "\n",
    "a()"
   ]
  },
  {
   "cell_type": "code",
   "execution_count": 10,
   "metadata": {},
   "outputs": [
    {
     "name": "stdout",
     "output_type": "stream",
     "text": [
      "0 1 1 2 3 5 8 13 21 34 55 89 144 233 377 610 987 1597 2584 4181 "
     ]
    }
   ],
   "source": [
    "# 費氏數列\n",
    "def a(n):\n",
    "    if n < 2:\n",
    "        return n #第0項固定為0; 第1項固定為1\n",
    "    else:\n",
    "        return a(n-1) + a(n-2) #某一項數字是其前兩項的和\n",
    "\n",
    "num = int( input() )\n",
    "for i in range(num):\n",
    "    print(a(i),end=' ')"
   ]
  }
 ],
 "metadata": {
  "kernelspec": {
   "display_name": "venv",
   "language": "python",
   "name": "python3"
  },
  "language_info": {
   "codemirror_mode": {
    "name": "ipython",
    "version": 3
   },
   "file_extension": ".py",
   "mimetype": "text/x-python",
   "name": "python",
   "nbconvert_exporter": "python",
   "pygments_lexer": "ipython3",
   "version": "3.8.6"
  },
  "orig_nbformat": 4
 },
 "nbformat": 4,
 "nbformat_minor": 2
}
