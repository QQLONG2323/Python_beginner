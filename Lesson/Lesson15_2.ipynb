{
 "cells": [
  {
   "cell_type": "code",
   "execution_count": 8,
   "metadata": {},
   "outputs": [
    {
     "data": {
      "text/plain": [
       "12.5"
      ]
     },
     "execution_count": 8,
     "metadata": {},
     "output_type": "execute_result"
    }
   ],
   "source": [
    "#傳統的function\n",
    "def f(x, y, z) -> float:\n",
    "    return x + y + z\n",
    "\n",
    "f(3, 4.5, 5)"
   ]
  },
  {
   "cell_type": "code",
   "execution_count": 9,
   "metadata": {},
   "outputs": [
    {
     "data": {
      "text/plain": [
       "12.5"
      ]
     },
     "execution_count": 9,
     "metadata": {},
     "output_type": "execute_result"
    }
   ],
   "source": [
    "#沒有名稱的function -> lambda\n",
    "#只可以寫一行\n",
    "#會自動return \n",
    "\n",
    "f = lambda x, y, z : x + y + z\n",
    "f(3, 4.5, 5)"
   ]
  },
  {
   "cell_type": "code",
   "execution_count": 11,
   "metadata": {},
   "outputs": [
    {
     "name": "stdout",
     "output_type": "stream",
     "text": [
      "2\n",
      "4\n",
      "6\n",
      "8\n",
      "10\n"
     ]
    }
   ],
   "source": [
    "#map(function, iterable)\n",
    "\n",
    "li1 = [1, 2, 3, 4, 5]\n",
    "\n",
    "def multiple2(x) -> float:\n",
    "    return x * 2\n",
    "\n",
    "mapObject = map(multiple2, li1)\n",
    "\n",
    "for i in mapObject:\n",
    "    print(i)"
   ]
  },
  {
   "cell_type": "code",
   "execution_count": 12,
   "metadata": {},
   "outputs": [
    {
     "name": "stdout",
     "output_type": "stream",
     "text": [
      "2\n",
      "4\n",
      "6\n",
      "8\n",
      "10\n"
     ]
    }
   ],
   "source": [
    "li1  = [1, 2, 3, 4, 5]\n",
    "\n",
    "mapObject = map(lambda x : x * 2, li1)\n",
    "for i in mapObject:\n",
    "    print(i)"
   ]
  },
  {
   "cell_type": "code",
   "execution_count": 17,
   "metadata": {},
   "outputs": [
    {
     "data": {
      "text/plain": [
       "[1, 3, 5, 7, 9]"
      ]
     },
     "execution_count": 17,
     "metadata": {},
     "output_type": "execute_result"
    }
   ],
   "source": [
    "#filter(function, iterable)\n",
    "#結果出來為bool值\n",
    "\n",
    "list(filter(lambda x : x % 2 == 0, [1, 2, 3, 4, 5, 6, 7, 8, 9, 10]))\n",
    "list(filter(lambda x : x % 2 == 1, [1, 2, 3, 4, 5, 6, 7, 8, 9, 10]))"
   ]
  },
  {
   "cell_type": "code",
   "execution_count": 23,
   "metadata": {},
   "outputs": [
    {
     "data": {
      "text/plain": [
       "False"
      ]
     },
     "execution_count": 23,
     "metadata": {},
     "output_type": "execute_result"
    }
   ],
   "source": [
    "greeting = \"Hello\"\n",
    "isinstance(greeting, int)"
   ]
  },
  {
   "cell_type": "code",
   "execution_count": 46,
   "metadata": {},
   "outputs": [],
   "source": [
    "def add(n, m) -> float:\n",
    "    if isinstance(n, (int, float)) and isinstance(m, (int, float)):\n",
    "        return n + m\n",
    "    else:\n",
    "        raise Exception('我', '出錯了')"
   ]
  },
  {
   "cell_type": "code",
   "execution_count": 71,
   "metadata": {},
   "outputs": [
    {
     "ename": "Exception",
     "evalue": "('我', '出錯了')",
     "output_type": "error",
     "traceback": [
      "\u001b[1;31m---------------------------------------------------------------------------\u001b[0m",
      "\u001b[1;31mException\u001b[0m                                 Traceback (most recent call last)",
      "Cell \u001b[1;32mIn[71], line 3\u001b[0m\n\u001b[0;32m      1\u001b[0m add(\u001b[39m3\u001b[39m, \u001b[39m5\u001b[39m)\n\u001b[0;32m      2\u001b[0m add(\u001b[39m3.5\u001b[39m, \u001b[39m8\u001b[39m)\n\u001b[1;32m----> 3\u001b[0m add(\u001b[39m\"\u001b[39;49m\u001b[39m3.5\u001b[39;49m\u001b[39m\"\u001b[39;49m, \u001b[39m\"\u001b[39;49m\u001b[39m8\u001b[39;49m\u001b[39m\"\u001b[39;49m)\n\u001b[0;32m      4\u001b[0m add(\u001b[39m3.5\u001b[39m, \u001b[39m\"\u001b[39m\u001b[39m8\u001b[39m\u001b[39m\"\u001b[39m)\n\u001b[0;32m      5\u001b[0m add(tt, uu)\n",
      "Cell \u001b[1;32mIn[46], line 5\u001b[0m, in \u001b[0;36madd\u001b[1;34m(n, m)\u001b[0m\n\u001b[0;32m      3\u001b[0m     \u001b[39mreturn\u001b[39;00m n \u001b[39m+\u001b[39m m\n\u001b[0;32m      4\u001b[0m \u001b[39melse\u001b[39;00m:\n\u001b[1;32m----> 5\u001b[0m     \u001b[39mraise\u001b[39;00m \u001b[39mException\u001b[39;00m(\u001b[39m'\u001b[39m\u001b[39m我\u001b[39m\u001b[39m'\u001b[39m, \u001b[39m'\u001b[39m\u001b[39m出錯了\u001b[39m\u001b[39m'\u001b[39m)\n",
      "\u001b[1;31mException\u001b[0m: ('我', '出錯了')"
     ]
    }
   ],
   "source": [
    "add(3, 5)\n",
    "add(3.5, 8)\n",
    "add(\"3.5\", \"8\")\n",
    "add(3.5, \"8\")\n",
    "add(tt, uu)"
   ]
  },
  {
   "cell_type": "code",
   "execution_count": 74,
   "metadata": {},
   "outputs": [
    {
     "ename": "IndexError",
     "evalue": "list index out of range",
     "output_type": "error",
     "traceback": [
      "\u001b[1;31m---------------------------------------------------------------------------\u001b[0m",
      "\u001b[1;31mIndexError\u001b[0m                                Traceback (most recent call last)",
      "Cell \u001b[1;32mIn[74], line 2\u001b[0m\n\u001b[0;32m      1\u001b[0m li2 \u001b[39m=\u001b[39m [\u001b[39m1\u001b[39m, \u001b[39m2\u001b[39m, \u001b[39m3\u001b[39m]\n\u001b[1;32m----> 2\u001b[0m li2[\u001b[39m3\u001b[39;49m]\n",
      "\u001b[1;31mIndexError\u001b[0m: list index out of range"
     ]
    }
   ],
   "source": [
    "li2 = [1, 2, 3]\n",
    "li2[3]"
   ]
  },
  {
   "cell_type": "code",
   "execution_count": 75,
   "metadata": {},
   "outputs": [],
   "source": [
    "class ParameterError(Exception):\n",
    "    pass\n",
    "\n",
    "def add(n,m) -> float:\n",
    "    if isinstance(n,(int,float)) and isinstance(m,(int,float)):    \n",
    "        return n + m\n",
    "    else:\n",
    "        raise ParameterError(\"參數出問題了\", \"一堆參數出問題了\", \"一大堆參數出問題了\")"
   ]
  },
  {
   "cell_type": "code",
   "execution_count": 90,
   "metadata": {},
   "outputs": [
    {
     "ename": "ParameterError",
     "evalue": "('參數出問題了', '一堆參數出問題了', '一大堆參數出問題了')",
     "output_type": "error",
     "traceback": [
      "\u001b[1;31m---------------------------------------------------------------------------\u001b[0m",
      "\u001b[1;31mParameterError\u001b[0m                            Traceback (most recent call last)",
      "Cell \u001b[1;32mIn[90], line 1\u001b[0m\n\u001b[1;32m----> 1\u001b[0m add(\u001b[39m'\u001b[39;49m\u001b[39m3\u001b[39;49m\u001b[39m'\u001b[39;49m, \u001b[39m5\u001b[39;49m)\n",
      "Cell \u001b[1;32mIn[75], line 8\u001b[0m, in \u001b[0;36madd\u001b[1;34m(n, m)\u001b[0m\n\u001b[0;32m      6\u001b[0m     \u001b[39mreturn\u001b[39;00m n \u001b[39m+\u001b[39m m\n\u001b[0;32m      7\u001b[0m \u001b[39melse\u001b[39;00m:\n\u001b[1;32m----> 8\u001b[0m     \u001b[39mraise\u001b[39;00m ParameterError(\u001b[39m\"\u001b[39m\u001b[39m參數出問題了\u001b[39m\u001b[39m\"\u001b[39m, \u001b[39m\"\u001b[39m\u001b[39m一堆參數出問題了\u001b[39m\u001b[39m\"\u001b[39m, \u001b[39m\"\u001b[39m\u001b[39m一大堆參數出問題了\u001b[39m\u001b[39m\"\u001b[39m)\n",
      "\u001b[1;31mParameterError\u001b[0m: ('參數出問題了', '一堆參數出問題了', '一大堆參數出問題了')"
     ]
    }
   ],
   "source": [
    "add('3', 5)"
   ]
  },
  {
   "cell_type": "code",
   "execution_count": 93,
   "metadata": {},
   "outputs": [
    {
     "name": "stdout",
     "output_type": "stream",
     "text": [
      "出錯了\n"
     ]
    }
   ],
   "source": [
    "try:\n",
    "    print(add('3', 5))\n",
    "except:\n",
    "    print(\"出錯了\")"
   ]
  },
  {
   "cell_type": "code",
   "execution_count": 95,
   "metadata": {},
   "outputs": [
    {
     "name": "stdout",
     "output_type": "stream",
     "text": [
      "一大堆參數出問題了\n"
     ]
    }
   ],
   "source": [
    "try:\n",
    "    add(\"3\", 5)\n",
    "\n",
    "except ParameterError:\n",
    "    print(\"一大堆參數出問題了\")\n",
    "    \n",
    "except:\n",
    "    print(\"出錯了\")\n",
    "\n"
   ]
  },
  {
   "cell_type": "code",
   "execution_count": 104,
   "metadata": {},
   "outputs": [
    {
     "name": "stdout",
     "output_type": "stream",
     "text": [
      "('參數出問題了', '一堆參數出問題了', '一大堆參數出問題了')\n",
      "有錯沒錯都會執行\n"
     ]
    }
   ],
   "source": [
    "try:\n",
    "    add(\"3\", 5)\n",
    "\n",
    "except ParameterError as err:\n",
    "    print(err.args)\n",
    "\n",
    "except:\n",
    "    print(\"出錯了\")\n",
    "finally:\n",
    "    print(\"有錯沒錯都會執行\")"
   ]
  },
  {
   "cell_type": "code",
   "execution_count": 112,
   "metadata": {},
   "outputs": [
    {
     "name": "stdout",
     "output_type": "stream",
     "text": [
      "沒有錯誤\n",
      "有錯沒錯都會執行\n"
     ]
    }
   ],
   "source": [
    "try:\n",
    "    add(3 , 5)\n",
    "except ParameterError as err:\n",
    "    print(err.args)\n",
    "except:\n",
    "    print(\"出錯了\")\n",
    "else:\n",
    "    print(\"沒有錯誤\")\n",
    "finally:\n",
    "    print(\"有錯沒錯都會執行\")"
   ]
  }
 ],
 "metadata": {
  "kernelspec": {
   "display_name": "venv",
   "language": "python",
   "name": "python3"
  },
  "language_info": {
   "codemirror_mode": {
    "name": "ipython",
    "version": 3
   },
   "file_extension": ".py",
   "mimetype": "text/x-python",
   "name": "python",
   "nbconvert_exporter": "python",
   "pygments_lexer": "ipython3",
   "version": "3.8.6"
  },
  "orig_nbformat": 4
 },
 "nbformat": 4,
 "nbformat_minor": 2
}
